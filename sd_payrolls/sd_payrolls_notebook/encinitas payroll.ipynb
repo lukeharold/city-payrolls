{
 "cells": [
  {
   "cell_type": "markdown",
   "metadata": {},
   "source": [
    "## City of Encinitas payroll data"
   ]
  },
  {
   "cell_type": "code",
   "execution_count": 2,
   "metadata": {},
   "outputs": [],
   "source": [
    "import pandas as pd"
   ]
  },
  {
   "cell_type": "code",
   "execution_count": 12,
   "metadata": {},
   "outputs": [],
   "source": [
    "pd.set_option('display.max_rows', 1000)\n",
    "pd.set_option('display.max_columns', 1000)\n",
    "pd.set_option('display.width', 1000)\n",
    "pd.set_option('display.max_colwidth', 1000)"
   ]
  },
  {
   "cell_type": "code",
   "execution_count": 5,
   "metadata": {},
   "outputs": [],
   "source": [
    "enc_13 = pd.read_csv(\"encinitas_2013.csv\")"
   ]
  },
  {
   "cell_type": "code",
   "execution_count": 6,
   "metadata": {},
   "outputs": [],
   "source": [
    "enc_14 = pd.read_csv(\"encinitas_2014.csv\")"
   ]
  },
  {
   "cell_type": "code",
   "execution_count": 18,
   "metadata": {},
   "outputs": [],
   "source": [
    "encinitas_15 = pd.read_csv(\"encinitas_2015.csv\")"
   ]
  },
  {
   "cell_type": "code",
   "execution_count": 19,
   "metadata": {},
   "outputs": [],
   "source": [
    "enc_15 = encinitas_15.drop(encinitas_15.index[398:490])"
   ]
  },
  {
   "cell_type": "code",
   "execution_count": 27,
   "metadata": {},
   "outputs": [],
   "source": [
    "encinitas_16 = pd.read_csv(\"encinitas_2016.csv\")"
   ]
  },
  {
   "cell_type": "code",
   "execution_count": 28,
   "metadata": {},
   "outputs": [],
   "source": [
    "enc_16 = encinitas_16 = encinitas_16.drop(encinitas_16.index[403:405])"
   ]
  },
  {
   "cell_type": "code",
   "execution_count": 31,
   "metadata": {},
   "outputs": [],
   "source": [
    "encinitas_17 = pd.read_csv(\"encinitas_2017.csv\")"
   ]
  },
  {
   "cell_type": "code",
   "execution_count": 32,
   "metadata": {},
   "outputs": [],
   "source": [
    "enc_17 = encinitas_17 = encinitas_17.drop(encinitas_17.index[414:425])"
   ]
  },
  {
   "cell_type": "code",
   "execution_count": 34,
   "metadata": {},
   "outputs": [],
   "source": [
    "enc_18 = pd.read_csv(\"encinitas_2018.csv\")"
   ]
  },
  {
   "cell_type": "code",
   "execution_count": null,
   "metadata": {},
   "outputs": [],
   "source": [
    "## 2013 fire payroll"
   ]
  },
  {
   "cell_type": "code",
   "execution_count": 48,
   "metadata": {},
   "outputs": [
    {
     "name": "stdout",
     "output_type": "stream",
     "text": [
      "<class 'pandas.core.frame.DataFrame'>\n",
      "RangeIndex: 355 entries, 0 to 354\n",
      "Data columns (total 16 columns):\n",
      "department                           355 non-null object\n",
      "first_name                           355 non-null object\n",
      "last_name                            355 non-null object\n",
      "job                                  355 non-null object\n",
      "multiple_positions                   355 non-null object\n",
      "minimum_salary                       354 non-null object\n",
      "maximum_salary                       355 non-null object\n",
      "regular_pay                          355 non-null object\n",
      "overtime_pay                         355 non-null object\n",
      "lump_sum_pay                         355 non-null object\n",
      "other                                355 non-null object\n",
      "perstype                             217 non-null object\n",
      "employee_share_of_pension_benefit    355 non-null object\n",
      "defined_benefit_plan                 355 non-null object\n",
      "deferred_compensation                355 non-null int64\n",
      "health_vision_dental                 355 non-null object\n",
      "dtypes: int64(1), object(15)\n",
      "memory usage: 44.5+ KB\n"
     ]
    }
   ],
   "source": [
    "enc_13.info()"
   ]
  },
  {
   "cell_type": "code",
   "execution_count": 75,
   "metadata": {},
   "outputs": [],
   "source": [
    "fire_13 = enc_13[enc_13.department.str.contains(\"FIRE\")]"
   ]
  },
  {
   "cell_type": "code",
   "execution_count": 79,
   "metadata": {},
   "outputs": [
    {
     "data": {
      "text/plain": [
       "'16,283023,632061312,318230001,58349,97121,79700006,37245,53038,37755,6310061,20244,56637,24447,0122304,957029,48445,94555,78203348,2347066322,51139,37371,85137,24015,437001640039,41506490020000061,15558,716040,890027,2580562080000727,65941,46150,83300035,06823,085695,674017,891027,81836,728828051,4846224,61741,98059,8450000043,94738,75743,0344,0787,03339,302061,627021,38914,466059,86817,55931,972052,247'"
      ]
     },
     "execution_count": 79,
     "metadata": {},
     "output_type": "execute_result"
    }
   ],
   "source": [
    "fire_13.overtime_pay.sum()"
   ]
  },
  {
   "cell_type": "code",
   "execution_count": null,
   "metadata": {},
   "outputs": [],
   "source": [
    "fire_13 = pd.DataFrame([[\"1\", \"2\"], [\"3\", \"4\"]], columns = [\"a\", \"b\"])"
   ]
  },
  {
   "cell_type": "code",
   "execution_count": 85,
   "metadata": {},
   "outputs": [],
   "source": [
    "overtime_fire_13 = fire_13.overtime_pay.str.replace(',', '').astype(float).astype(int)"
   ]
  },
  {
   "cell_type": "code",
   "execution_count": 87,
   "metadata": {},
   "outputs": [
    {
     "data": {
      "text/plain": [
       "1903337"
      ]
     },
     "execution_count": 87,
     "metadata": {},
     "output_type": "execute_result"
    }
   ],
   "source": [
    "overtime_fire_13.sum()"
   ]
  },
  {
   "cell_type": "code",
   "execution_count": null,
   "metadata": {},
   "outputs": [],
   "source": [
    "## 2018 fire payroll"
   ]
  },
  {
   "cell_type": "code",
   "execution_count": 66,
   "metadata": {},
   "outputs": [],
   "source": [
    "fire_18 = enc_18[enc_18.department.str.contains(\"FIRE\")]"
   ]
  },
  {
   "cell_type": "code",
   "execution_count": 69,
   "metadata": {},
   "outputs": [
    {
     "data": {
      "text/plain": [
       "2277579"
      ]
     },
     "execution_count": 69,
     "metadata": {},
     "output_type": "execute_result"
    }
   ],
   "source": [
    "fire_18.overtime_pay.sum()"
   ]
  },
  {
   "cell_type": "code",
   "execution_count": 71,
   "metadata": {},
   "outputs": [
    {
     "data": {
      "text/plain": [
       "6129520"
      ]
     },
     "execution_count": 71,
     "metadata": {},
     "output_type": "execute_result"
    }
   ],
   "source": [
    "fire_18.regular_pay.sum()"
   ]
  },
  {
   "cell_type": "code",
   "execution_count": null,
   "metadata": {},
   "outputs": [],
   "source": []
  }
 ],
 "metadata": {
  "kernelspec": {
   "display_name": "Python 3",
   "language": "python",
   "name": "python3"
  },
  "language_info": {
   "codemirror_mode": {
    "name": "ipython",
    "version": 3
   },
   "file_extension": ".py",
   "mimetype": "text/x-python",
   "name": "python",
   "nbconvert_exporter": "python",
   "pygments_lexer": "ipython3",
   "version": "3.7.2"
  }
 },
 "nbformat": 4,
 "nbformat_minor": 4
}
